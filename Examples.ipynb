{
 "cells": [
  {
   "cell_type": "code",
   "execution_count": 16,
   "id": "8e4486ce-f241-42c3-af58-664ff96baaa0",
   "metadata": {
    "execution": {
     "iopub.execute_input": "2025-05-29T06:59:05.721376Z",
     "iopub.status.busy": "2025-05-29T06:59:05.719790Z",
     "iopub.status.idle": "2025-05-29T06:59:05.740798Z",
     "shell.execute_reply": "2025-05-29T06:59:05.738742Z",
     "shell.execute_reply.started": "2025-05-29T06:59:05.721304Z"
    }
   },
   "outputs": [
    {
     "data": {
      "text/plain": [
       "(<Level8:a=(1/2*r^2 + 1/2)/r>, <Level8:a=r^2>)"
      ]
     },
     "execution_count": 16,
     "metadata": {},
     "output_type": "execute_result"
    }
   ],
   "source": [
    "from parameters import Level4, Level8, Level16\n",
    "from setting import Setting\n",
    "\n",
    "t = Level16()\n",
    "t.left(), t.right()"
   ]
  },
  {
   "cell_type": "code",
   "execution_count": 17,
   "id": "adde079b-2f2c-405f-8194-f183578c5386",
   "metadata": {
    "execution": {
     "iopub.execute_input": "2025-05-29T06:59:06.023115Z",
     "iopub.status.busy": "2025-05-29T06:59:06.022752Z",
     "iopub.status.idle": "2025-05-29T06:59:06.031199Z",
     "shell.execute_reply": "2025-05-29T06:59:06.029869Z",
     "shell.execute_reply.started": "2025-05-29T06:59:06.023083Z"
    }
   },
   "outputs": [
    {
     "data": {
      "text/plain": [
       "0"
      ]
     },
     "execution_count": 17,
     "metadata": {},
     "output_type": "execute_result"
    }
   ],
   "source": [
    "t.left().phi(t.right())"
   ]
  },
  {
   "cell_type": "code",
   "execution_count": 18,
   "id": "5c036833-92f2-41a8-b5bf-4169528a5bc8",
   "metadata": {
    "execution": {
     "iopub.execute_input": "2025-05-29T06:59:06.224044Z",
     "iopub.status.busy": "2025-05-29T06:59:06.223792Z",
     "iopub.status.idle": "2025-05-29T06:59:06.229554Z",
     "shell.execute_reply": "2025-05-29T06:59:06.228822Z",
     "shell.execute_reply.started": "2025-05-29T06:59:06.224023Z"
    }
   },
   "outputs": [
    {
     "data": {
      "text/plain": [
       "-2*x^2*y + y^2 + 1"
      ]
     },
     "execution_count": 18,
     "metadata": {},
     "output_type": "execute_result"
    }
   ],
   "source": [
    "x, y = QQ['x,y'].gens()\n",
    "Level16(x).phi(Level16(y))"
   ]
  },
  {
   "cell_type": "code",
   "execution_count": 19,
   "id": "f6c964ae-73b2-481c-8459-61aba503c029",
   "metadata": {
    "execution": {
     "iopub.execute_input": "2025-05-29T06:59:06.433670Z",
     "iopub.status.busy": "2025-05-29T06:59:06.433399Z",
     "iopub.status.idle": "2025-05-29T06:59:06.440954Z",
     "shell.execute_reply": "2025-05-29T06:59:06.439744Z",
     "shell.execute_reply.started": "2025-05-29T06:59:06.433634Z"
    }
   },
   "outputs": [
    {
     "data": {
      "text/plain": [
       "<Level16:r=r>"
      ]
     },
     "execution_count": 19,
     "metadata": {},
     "output_type": "execute_result"
    }
   ],
   "source": [
    "t.left().merge(t.right())"
   ]
  },
  {
   "cell_type": "code",
   "execution_count": 20,
   "id": "b52c1d2b-26c7-43db-ac6a-d1e71f4aae8a",
   "metadata": {
    "execution": {
     "iopub.execute_input": "2025-05-29T06:59:06.911713Z",
     "iopub.status.busy": "2025-05-29T06:59:06.911054Z",
     "iopub.status.idle": "2025-05-29T06:59:06.920789Z",
     "shell.execute_reply": "2025-05-29T06:59:06.919207Z",
     "shell.execute_reply.started": "2025-05-29T06:59:06.911678Z"
    }
   },
   "outputs": [
    {
     "data": {
      "text/plain": [
       "<Level16:r=(y + 1)/(2*x)>"
      ]
     },
     "execution_count": 20,
     "metadata": {},
     "output_type": "execute_result"
    }
   ],
   "source": [
    "Level8(x).merge(Level8(y), check=False)"
   ]
  },
  {
   "cell_type": "code",
   "execution_count": 21,
   "id": "b31b01f1-94e1-4958-a3a5-4c20daaf8282",
   "metadata": {
    "execution": {
     "iopub.execute_input": "2025-05-29T06:59:09.033028Z",
     "iopub.status.busy": "2025-05-29T06:59:09.030831Z",
     "iopub.status.idle": "2025-05-29T06:59:09.061550Z",
     "shell.execute_reply": "2025-05-29T06:59:09.060821Z",
     "shell.execute_reply.started": "2025-05-29T06:59:09.032903Z"
    }
   },
   "outputs": [
    {
     "data": {
      "text/plain": [
       "True"
      ]
     },
     "execution_count": 21,
     "metadata": {},
     "output_type": "execute_result"
    }
   ],
   "source": [
    "t = Level4(6, S=Setting(p=19))\n",
    "t.is_supersingular()"
   ]
  },
  {
   "cell_type": "code",
   "execution_count": 27,
   "id": "7305285a-38c5-4076-8272-7c6c63126a25",
   "metadata": {
    "execution": {
     "iopub.execute_input": "2025-05-29T06:59:42.452979Z",
     "iopub.status.busy": "2025-05-29T06:59:42.452318Z",
     "iopub.status.idle": "2025-05-29T06:59:42.462876Z",
     "shell.execute_reply": "2025-05-29T06:59:42.462208Z",
     "shell.execute_reply.started": "2025-05-29T06:59:42.452940Z"
    }
   },
   "outputs": [
    {
     "data": {
      "text/plain": [
       "[<Level4:A=6>,\n",
       " <Level4:A=3*i + 10>,\n",
       " <Level4:A=10*i>,\n",
       " <Level4:A=13>,\n",
       " <Level4:A=16*i + 10>]"
      ]
     },
     "execution_count": 27,
     "metadata": {},
     "output_type": "execute_result"
    }
   ],
   "source": [
    "# sample a 2-isogeny path of 5 elements\n",
    "# following this parameter\n",
    "t.sample_fw(5, skip=0)"
   ]
  }
 ],
 "metadata": {
  "kernelspec": {
   "display_name": "SageConda",
   "language": "sage",
   "name": "sageconda"
  },
  "language_info": {
   "codemirror_mode": {
    "name": "ipython",
    "version": 3
   },
   "file_extension": ".py",
   "mimetype": "text/x-python",
   "name": "python",
   "nbconvert_exporter": "python",
   "pygments_lexer": "ipython3",
   "version": "3.12.10"
  }
 },
 "nbformat": 4,
 "nbformat_minor": 5
}
