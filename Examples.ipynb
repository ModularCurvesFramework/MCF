{
 "cells": [
  {
   "cell_type": "code",
   "execution_count": 1,
   "id": "8e4486ce-f241-42c3-af58-664ff96baaa0",
   "metadata": {
    "execution": {
     "iopub.execute_input": "2025-05-29T06:32:04.264974Z",
     "iopub.status.busy": "2025-05-29T06:32:04.263931Z",
     "iopub.status.idle": "2025-05-29T06:32:04.325527Z",
     "shell.execute_reply": "2025-05-29T06:32:04.324602Z",
     "shell.execute_reply.started": "2025-05-29T06:32:04.264868Z"
    }
   },
   "outputs": [
    {
     "data": {
      "text/plain": [
       "<Level2:D=256*r^8 - 256*r^4>"
      ]
     },
     "execution_count": 1,
     "metadata": {},
     "output_type": "execute_result"
    }
   ],
   "source": [
    "from parameters import Level4, Level16\n",
    "from setting import Setting\n",
    "\n",
    "t = Level16()\n",
    "t.right().right().right()"
   ]
  },
  {
   "cell_type": "code",
   "execution_count": 2,
   "id": "b31b01f1-94e1-4958-a3a5-4c20daaf8282",
   "metadata": {
    "execution": {
     "iopub.execute_input": "2025-05-29T06:32:04.722540Z",
     "iopub.status.busy": "2025-05-29T06:32:04.721577Z",
     "iopub.status.idle": "2025-05-29T06:32:04.805628Z",
     "shell.execute_reply": "2025-05-29T06:32:04.804213Z",
     "shell.execute_reply.started": "2025-05-29T06:32:04.722436Z"
    }
   },
   "outputs": [
    {
     "data": {
      "text/plain": [
       "True"
      ]
     },
     "execution_count": 2,
     "metadata": {},
     "output_type": "execute_result"
    }
   ],
   "source": [
    "t = Level4(6, S=Setting(p=19))\n",
    "t.is_supersingular()"
   ]
  },
  {
   "cell_type": "code",
   "execution_count": 3,
   "id": "7305285a-38c5-4076-8272-7c6c63126a25",
   "metadata": {
    "execution": {
     "iopub.execute_input": "2025-05-29T06:32:05.225718Z",
     "iopub.status.busy": "2025-05-29T06:32:05.224641Z",
     "iopub.status.idle": "2025-05-29T06:32:05.258937Z",
     "shell.execute_reply": "2025-05-29T06:32:05.256282Z",
     "shell.execute_reply.started": "2025-05-29T06:32:05.225545Z"
    }
   },
   "outputs": [
    {
     "data": {
      "text/plain": [
       "[<Level4:A=3*i + 10>,\n",
       " <Level4:A=10*i>,\n",
       " <Level4:A=0>,\n",
       " <Level4:A=6>,\n",
       " <Level4:A=3*i + 10>]"
      ]
     },
     "execution_count": 3,
     "metadata": {},
     "output_type": "execute_result"
    }
   ],
   "source": [
    "# sample a 2-isogeny path of 5 elements\n",
    "# following this parameter\n",
    "t.sample_fw(5)"
   ]
  },
  {
   "cell_type": "code",
   "execution_count": null,
   "id": "c3f4e80b-6b23-4537-9b5c-e2fa6a9fb433",
   "metadata": {},
   "outputs": [],
   "source": []
  }
 ],
 "metadata": {
  "kernelspec": {
   "display_name": "SageConda",
   "language": "sage",
   "name": "sageconda"
  },
  "language_info": {
   "codemirror_mode": {
    "name": "ipython",
    "version": 3
   },
   "file_extension": ".py",
   "mimetype": "text/x-python",
   "name": "python",
   "nbconvert_exporter": "python",
   "pygments_lexer": "ipython3",
   "version": "3.12.10"
  }
 },
 "nbformat": 4,
 "nbformat_minor": 5
}
