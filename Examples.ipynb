{
 "cells": [
  {
   "cell_type": "code",
   "execution_count": 1,
   "id": "8e4486ce-f241-42c3-af58-664ff96baaa0",
   "metadata": {
    "execution": {
     "iopub.execute_input": "2025-05-29T08:03:29.398927Z",
     "iopub.status.busy": "2025-05-29T08:03:29.398547Z",
     "iopub.status.idle": "2025-05-29T08:03:29.455792Z",
     "shell.execute_reply": "2025-05-29T08:03:29.454960Z",
     "shell.execute_reply.started": "2025-05-29T08:03:29.398892Z"
    }
   },
   "outputs": [
    {
     "data": {
      "text/plain": [
       "(<Level8:a=(1/2*r^2 + 1/2)/r>, <Level8:a=r^2>)"
      ]
     },
     "execution_count": 1,
     "metadata": {},
     "output_type": "execute_result"
    }
   ],
   "source": [
    "from parameters import Level1, Level4, Level8, Level16\n",
    "from setting import Setting\n",
    "\n",
    "t = Level16()\n",
    "t.left(), t.right()"
   ]
  },
  {
   "cell_type": "code",
   "execution_count": 2,
   "id": "adde079b-2f2c-405f-8194-f183578c5386",
   "metadata": {
    "execution": {
     "iopub.execute_input": "2025-05-29T08:03:29.456750Z",
     "iopub.status.busy": "2025-05-29T08:03:29.456499Z",
     "iopub.status.idle": "2025-05-29T08:03:29.464793Z",
     "shell.execute_reply": "2025-05-29T08:03:29.463478Z",
     "shell.execute_reply.started": "2025-05-29T08:03:29.456726Z"
    }
   },
   "outputs": [
    {
     "data": {
      "text/plain": [
       "0"
      ]
     },
     "execution_count": 2,
     "metadata": {},
     "output_type": "execute_result"
    }
   ],
   "source": [
    "t.left().phi(t.right())"
   ]
  },
  {
   "cell_type": "code",
   "execution_count": 3,
   "id": "5c036833-92f2-41a8-b5bf-4169528a5bc8",
   "metadata": {
    "execution": {
     "iopub.execute_input": "2025-05-29T08:03:29.466328Z",
     "iopub.status.busy": "2025-05-29T08:03:29.465962Z",
     "iopub.status.idle": "2025-05-29T08:03:29.481339Z",
     "shell.execute_reply": "2025-05-29T08:03:29.480459Z",
     "shell.execute_reply.started": "2025-05-29T08:03:29.466296Z"
    }
   },
   "outputs": [
    {
     "data": {
      "text/plain": [
       "-2*x^2*y + y^2 + 1"
      ]
     },
     "execution_count": 3,
     "metadata": {},
     "output_type": "execute_result"
    }
   ],
   "source": [
    "x, y = QQ['x,y'].gens()\n",
    "Level16(x).phi(Level16(y))"
   ]
  },
  {
   "cell_type": "code",
   "execution_count": 4,
   "id": "f6c964ae-73b2-481c-8459-61aba503c029",
   "metadata": {
    "execution": {
     "iopub.execute_input": "2025-05-29T08:03:29.482770Z",
     "iopub.status.busy": "2025-05-29T08:03:29.482350Z",
     "iopub.status.idle": "2025-05-29T08:03:29.494698Z",
     "shell.execute_reply": "2025-05-29T08:03:29.493941Z",
     "shell.execute_reply.started": "2025-05-29T08:03:29.482739Z"
    }
   },
   "outputs": [
    {
     "data": {
      "text/plain": [
       "<Level16:r=r>"
      ]
     },
     "execution_count": 4,
     "metadata": {},
     "output_type": "execute_result"
    }
   ],
   "source": [
    "t.left().merge(t.right())"
   ]
  },
  {
   "cell_type": "code",
   "execution_count": 5,
   "id": "b52c1d2b-26c7-43db-ac6a-d1e71f4aae8a",
   "metadata": {
    "execution": {
     "iopub.execute_input": "2025-05-29T08:03:29.498407Z",
     "iopub.status.busy": "2025-05-29T08:03:29.497839Z",
     "iopub.status.idle": "2025-05-29T08:03:29.514047Z",
     "shell.execute_reply": "2025-05-29T08:03:29.512060Z",
     "shell.execute_reply.started": "2025-05-29T08:03:29.498357Z"
    }
   },
   "outputs": [
    {
     "data": {
      "text/plain": [
       "<Level16:r=(y + 1)/(2*x)>"
      ]
     },
     "execution_count": 5,
     "metadata": {},
     "output_type": "execute_result"
    }
   ],
   "source": [
    "Level8(x).merge(Level8(y), check=False)"
   ]
  },
  {
   "cell_type": "code",
   "execution_count": 6,
   "id": "b31b01f1-94e1-4958-a3a5-4c20daaf8282",
   "metadata": {
    "execution": {
     "iopub.execute_input": "2025-05-29T08:03:29.516857Z",
     "iopub.status.busy": "2025-05-29T08:03:29.515609Z",
     "iopub.status.idle": "2025-05-29T08:03:29.584242Z",
     "shell.execute_reply": "2025-05-29T08:03:29.583566Z",
     "shell.execute_reply.started": "2025-05-29T08:03:29.516813Z"
    }
   },
   "outputs": [
    {
     "data": {
      "text/plain": [
       "True"
      ]
     },
     "execution_count": 6,
     "metadata": {},
     "output_type": "execute_result"
    }
   ],
   "source": [
    "t = Level4(6, S=Setting(p=19))\n",
    "t.is_supersingular()"
   ]
  },
  {
   "cell_type": "code",
   "execution_count": 7,
   "id": "7305285a-38c5-4076-8272-7c6c63126a25",
   "metadata": {
    "execution": {
     "iopub.execute_input": "2025-05-29T08:03:29.585181Z",
     "iopub.status.busy": "2025-05-29T08:03:29.584884Z",
     "iopub.status.idle": "2025-05-29T08:03:29.596889Z",
     "shell.execute_reply": "2025-05-29T08:03:29.595350Z",
     "shell.execute_reply.started": "2025-05-29T08:03:29.585144Z"
    }
   },
   "outputs": [
    {
     "data": {
      "text/plain": [
       "[<Level4:A=6>,\n",
       " <Level4:A=16*i + 10>,\n",
       " <Level4:A=9*i>,\n",
       " <Level4:A=13>,\n",
       " <Level4:A=16*i + 10>]"
      ]
     },
     "execution_count": 7,
     "metadata": {},
     "output_type": "execute_result"
    }
   ],
   "source": [
    "# sample a 2-isogeny path of 5 elements\n",
    "# following this parameter\n",
    "t.sample_fw(5, skip=0)"
   ]
  },
  {
   "cell_type": "code",
   "execution_count": 8,
   "id": "bc71e409-c9c3-4168-a23b-838613ca0d4c",
   "metadata": {
    "execution": {
     "iopub.execute_input": "2025-05-29T08:03:29.599328Z",
     "iopub.status.busy": "2025-05-29T08:03:29.598861Z",
     "iopub.status.idle": "2025-05-29T08:03:29.676574Z",
     "shell.execute_reply": "2025-05-29T08:03:29.675198Z",
     "shell.execute_reply.started": "2025-05-29T08:03:29.599290Z"
    }
   },
   "outputs": [
    {
     "data": {
      "text/plain": [
       "(<Level1:j=403*i + 524>, <Level1:j=798*i + 457>, <Level1:j=443*i + 842>)"
      ]
     },
     "execution_count": 8,
     "metadata": {},
     "output_type": "execute_result"
    }
   ],
   "source": [
    "# propagate 2- and 3- isogeny from j-invariants\n",
    "j1 = Setting(p=1051).j0.sample_fw(1, l=2, skip=10)  # do some walk to get a random  one\n",
    "j2 = j1.sample_fw(l=2)\n",
    "j3 = j1.sample_fw(l=3)\n",
    "assert j1.phi(j2, l=2) == 0\n",
    "assert j1.phi(j3, l=3) == 0\n",
    "j1, j2, j3"
   ]
  },
  {
   "cell_type": "code",
   "execution_count": 9,
   "id": "644210c9-20ce-4c8c-ac00-918a42f248d9",
   "metadata": {
    "execution": {
     "iopub.execute_input": "2025-05-29T08:03:29.678007Z",
     "iopub.status.busy": "2025-05-29T08:03:29.677500Z",
     "iopub.status.idle": "2025-05-29T08:03:29.689293Z",
     "shell.execute_reply": "2025-05-29T08:03:29.687723Z",
     "shell.execute_reply.started": "2025-05-29T08:03:29.677964Z"
    }
   },
   "outputs": [
    {
     "data": {
      "text/plain": [
       "<Level6:t=480*i + 481>"
      ]
     },
     "execution_count": 9,
     "metadata": {},
     "output_type": "execute_result"
    }
   ],
   "source": [
    "# note: reverse order\n",
    "# because MergeBar requires\n",
    "# equality of rights\n",
    "D12 = j2.merge(j1, l=2)\n",
    "D13 = j3.merge(j1, l=3)\n",
    "D6 = D12.merge(D13)\n",
    "D6"
   ]
  },
  {
   "cell_type": "code",
   "execution_count": 10,
   "id": "473a3971-6b08-4c94-adc7-4ce3b265f614",
   "metadata": {
    "execution": {
     "iopub.execute_input": "2025-05-29T08:03:29.691973Z",
     "iopub.status.busy": "2025-05-29T08:03:29.690754Z",
     "iopub.status.idle": "2025-05-29T08:03:29.703834Z",
     "shell.execute_reply": "2025-05-29T08:03:29.702813Z",
     "shell.execute_reply.started": "2025-05-29T08:03:29.691906Z"
    }
   },
   "outputs": [
    {
     "data": {
      "text/plain": [
       "<Level1:j=390*i + 6>"
      ]
     },
     "execution_count": 10,
     "metadata": {},
     "output_type": "execute_result"
    }
   ],
   "source": [
    "j6 = D6.left().left()\n",
    "assert j6.phi(j2, l=3) == 0\n",
    "assert j6.phi(j3, l=2) == 0\n",
    "j6"
   ]
  }
 ],
 "metadata": {
  "kernelspec": {
   "display_name": "SageConda",
   "language": "sage",
   "name": "sageconda"
  },
  "language_info": {
   "codemirror_mode": {
    "name": "ipython",
    "version": 3
   },
   "file_extension": ".py",
   "mimetype": "text/x-python",
   "name": "python",
   "nbconvert_exporter": "python",
   "pygments_lexer": "ipython3",
   "version": "3.12.10"
  }
 },
 "nbformat": 4,
 "nbformat_minor": 5
}
