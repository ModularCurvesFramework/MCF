{
 "cells": [
  {
   "cell_type": "markdown",
   "id": "7d2f5523-d524-4b24-ab7d-aaf8c25b0763",
   "metadata": {},
   "source": [
    "# Setup"
   ]
  },
  {
   "cell_type": "code",
   "execution_count": 1,
   "id": "4f4377f3-5113-4b7c-8dd0-65c0765ac1f1",
   "metadata": {
    "execution": {
     "iopub.execute_input": "2025-05-29T07:27:52.917537Z",
     "iopub.status.busy": "2025-05-29T07:27:52.915323Z",
     "iopub.status.idle": "2025-05-29T07:27:53.025646Z",
     "shell.execute_reply": "2025-05-29T07:27:53.024432Z",
     "shell.execute_reply.started": "2025-05-29T07:27:52.917415Z"
    }
   },
   "outputs": [],
   "source": [
    "from setting import *\n",
    "from parameters import *\n",
    "\n",
    "S = Setting(pbits=50)"
   ]
  },
  {
   "cell_type": "code",
   "execution_count": 2,
   "id": "24e8649b-061e-4a8d-b73e-f80c0ecc8b4b",
   "metadata": {
    "execution": {
     "iopub.execute_input": "2025-05-29T07:27:53.110520Z",
     "iopub.status.busy": "2025-05-29T07:27:53.110201Z",
     "iopub.status.idle": "2025-05-29T07:27:53.117708Z",
     "shell.execute_reply": "2025-05-29T07:27:53.116857Z",
     "shell.execute_reply.started": "2025-05-29T07:27:53.110491Z"
    }
   },
   "outputs": [],
   "source": [
    "def shift_fast(f, shift):\n",
    "    # compute f(x + shift)\n",
    "    F = f.base_ring()\n",
    "    R = f.parent()\n",
    "    x = f.parent().gen()\n",
    "    n = f.degree() + 1\n",
    "    \n",
    "    # precompute factorials\n",
    "    if not hasattr(R, \"_F_cache\"):\n",
    "        print(\"Precomputing factorials\")\n",
    "        R._F_cache = [F(1)]\n",
    "        R._iF_cache = [F(1)]\n",
    "        \n",
    "    facts = R._F_cache\n",
    "    ifacts = R._iF_cache\n",
    "    for i in range(len(facts),n+1):\n",
    "        facts.append(facts[i-1] * i)\n",
    "        ifacts.append(~facts[i])  # can be batched to 1 inversion\n",
    "\n",
    "    # https://arxiv.org/pdf/0804.2337 p.3\n",
    "    # (refers to A. V. Aho, K. Steiglitz, and J. D. Ullman. Evaluating\n",
    "    # polynomials at fixed sets of points. SIAM J. Comp., 4(4):533–539, 1975.\n",
    "    g = f\n",
    "    \n",
    "    g = R([gi * facts[i] for i, gi in enumerate(g)])\n",
    "    g = R(list(g)[::-1])\n",
    "\n",
    "    P = R([shift**i * ifacts[i] for i in range(n)])\n",
    "    # this should be done in FFT or similar\n",
    "    g = g*P % x**n\n",
    "    \n",
    "    g = R(list(g)[::-1])\n",
    "    g = R([gi * ifacts[i] for i, gi in enumerate(g)])\n",
    "    \n",
    "    #assert f(x + shift) == g\n",
    "    return g"
   ]
  },
  {
   "cell_type": "code",
   "execution_count": 3,
   "id": "cbd4307a-94fd-4a34-b24b-5fad8068c506",
   "metadata": {
    "execution": {
     "iopub.execute_input": "2025-05-29T07:27:53.315344Z",
     "iopub.status.busy": "2025-05-29T07:27:53.315017Z",
     "iopub.status.idle": "2025-05-29T07:27:53.321978Z",
     "shell.execute_reply": "2025-05-29T07:27:53.321091Z",
     "shell.execute_reply.started": "2025-05-29T07:27:53.315314Z"
    }
   },
   "outputs": [],
   "source": [
    "def to_Chebyshev_slow(f):\n",
    "    R = f.parent()\n",
    "    x = R.gen()\n",
    "    n = f.degree()\n",
    "\n",
    "    # precompute Chebyshev polynomials\n",
    "    if not hasattr(R, \"_T_cache\"):\n",
    "        print(\"Precomputing Chebyshev polynomials\")\n",
    "        R._T_cache = [f.parent()(1), x]\n",
    "        R._pow_i2_cache = [f.base_ring()(1), f.base_ring()(1)]\n",
    "\n",
    "    T = R._T_cache\n",
    "    for _ in range(len(T), n+1):\n",
    "        T.append(2*x*T[-1] - T[-2])\n",
    "        R._pow_i2_cache.append(R._pow_i2_cache[-1] / 2)\n",
    "\n",
    "    # convert to the basis (naive)\n",
    "    res = [None] * (n + 1)\n",
    "    t = f\n",
    "    for i in reversed(range(n + 1)):\n",
    "        assert R._pow_i2_cache[i] == 1/T[i].lc(), (i, T[i].lc(), R._pow_i2_cache[i])\n",
    "        res[i] = t[i] * R._pow_i2_cache[i]\n",
    "        t -= res[i] * T[i]\n",
    "    #assert f == sum(res[i] * T[i] for i in range(n + 1))\n",
    "    return f.parent()(res)"
   ]
  },
  {
   "cell_type": "code",
   "execution_count": 4,
   "id": "971c52a7-10be-4c3a-8246-e32b1b3083d5",
   "metadata": {
    "execution": {
     "iopub.execute_input": "2025-05-29T07:27:53.849066Z",
     "iopub.status.busy": "2025-05-29T07:27:53.848231Z",
     "iopub.status.idle": "2025-05-29T07:27:53.868084Z",
     "shell.execute_reply": "2025-05-29T07:27:53.866956Z",
     "shell.execute_reply.started": "2025-05-29T07:27:53.848996Z"
    }
   },
   "outputs": [],
   "source": [
    "def forward_polys(S, x0, nsteps):\n",
    "    x = S.Fp2['x'].gen()\n",
    "    R = x.parent()\n",
    "    fs = [x - x0.value]\n",
    "    for i in range(1, nsteps+1):\n",
    "        f = fs[-1]\n",
    "        d = f.degree()\n",
    "        assert f.degree() == 2**(i-1), (f.degree(), i)\n",
    "        \n",
    "        gx2 = f(x)*f(-x)  # M(d) mult., \n",
    "        g = R(list(gx2)[::2])  # squeeze coefficients\n",
    "        # g(x**2) = f(x)f(-x)\n",
    "\n",
    "        # can use Graeffe trick for slight optimization\n",
    "        #fe = R(list(f)[::2])\n",
    "        #fo = R(list(f)[1::2])\n",
    "        #assert f(x) == fe(x**2) + x*fo(x**2)\n",
    "        #assert g == fe**2 - x*fo**2\n",
    "    \n",
    "        gt = to_Chebyshev_slow(g)/2  # M(d) conv.\n",
    "        #assert g((x+1/x)/2) == gt(x) + gt(1/x)\n",
    "\n",
    "        #h = R(list(gt)[::-1] + list(gt)[1::1]) + gt[0]*x**d\n",
    "        h = list(gt)\n",
    "        h = h[::-1] + h[1::]\n",
    "        h[d] += gt[0]\n",
    "        h = R(h)\n",
    "        \n",
    "        #assert h == R( gt(x)*x**d + x**d*gt(1/x) )\n",
    "        assert h.degree() == 2*d\n",
    "        fs.append(h)\n",
    "    return fs\n",
    "\n",
    "def subst_dual_fast(f):\n",
    "    #f0 = f\n",
    "    R = f.parent()\n",
    "    F = R.base_ring()\n",
    "    f = shift_fast(f, +1) # f(x+1)\n",
    "    f = R([F(2)**i * c for i, c in enumerate(f)]) # f(2x)\n",
    "    f = R(list(f)[::-1]) # x^d f(1/x)\n",
    "    f = shift_fast(f, -1)  # h(f-1)\n",
    "    return f\n",
    "\n",
    "def backward_polys(S, x0, nsteps):\n",
    "    fs = forward_polys(S, x0.dual(), nsteps)\n",
    "    gs = []\n",
    "    for i, f in enumerate(fs):\n",
    "        x = f.parent().gen()\n",
    "        g = subst_dual_fast(f)\n",
    "        #assert g == f.subs((x+1)/(x-1)).numerator()\n",
    "        gs.append(g)\n",
    "    return gs"
   ]
  },
  {
   "cell_type": "code",
   "execution_count": 5,
   "id": "d7cf8f56-4b96-4797-af92-59b6880a2f94",
   "metadata": {
    "execution": {
     "iopub.execute_input": "2025-05-29T07:27:54.405271Z",
     "iopub.status.busy": "2025-05-29T07:27:54.404784Z",
     "iopub.status.idle": "2025-05-29T07:27:54.433082Z",
     "shell.execute_reply": "2025-05-29T07:27:54.431103Z",
     "shell.execute_reply.started": "2025-05-29T07:27:54.405227Z"
    }
   },
   "outputs": [
    {
     "data": {
      "text/plain": [
       "51"
      ]
     },
     "execution_count": 5,
     "metadata": {},
     "output_type": "execute_result"
    }
   ],
   "source": [
    "S.p.nbits()"
   ]
  },
  {
   "cell_type": "code",
   "execution_count": 6,
   "id": "1f3bc794-19b8-47f7-b92d-04b251045d51",
   "metadata": {
    "execution": {
     "iopub.execute_input": "2025-05-29T07:27:56.756138Z",
     "iopub.status.busy": "2025-05-29T07:27:56.754255Z",
     "iopub.status.idle": "2025-05-29T07:27:56.925732Z",
     "shell.execute_reply": "2025-05-29T07:27:56.925007Z",
     "shell.execute_reply.started": "2025-05-29T07:27:56.756022Z"
    }
   },
   "outputs": [],
   "source": [
    "n = 20\n",
    "xpath = S.r0.sample_fw(n+1, skip=100)\n",
    "x0 = xpath[0]\n",
    "xn = xpath[n]"
   ]
  },
  {
   "cell_type": "code",
   "execution_count": 7,
   "id": "3b9a187e-21db-46b3-8f26-cf97fc1155c9",
   "metadata": {
    "execution": {
     "iopub.execute_input": "2025-05-29T07:27:57.310933Z",
     "iopub.status.busy": "2025-05-29T07:27:57.308513Z",
     "iopub.status.idle": "2025-05-29T07:27:59.798204Z",
     "shell.execute_reply": "2025-05-29T07:27:59.797567Z",
     "shell.execute_reply.started": "2025-05-29T07:27:57.310812Z"
    }
   },
   "outputs": [
    {
     "name": "stdout",
     "output_type": "stream",
     "text": [
      "Precomputing Chebyshev polynomials\n",
      "Precomputing factorials\n"
     ]
    }
   ],
   "source": [
    "assert n % 2 == 0\n",
    "\n",
    "fs = forward_polys(S, x0, n//2)\n",
    "for i, f in enumerate(fs):\n",
    "    assert f(xpath[i].value) == 0\n",
    "\n",
    "gs = backward_polys(S, xn, n//2)\n",
    "for i, g in enumerate(gs):\n",
    "    assert g(xpath[-1-i].value) == 0, i"
   ]
  },
  {
   "cell_type": "code",
   "execution_count": 8,
   "id": "3becb433-a830-4c48-aa37-3ea6d10301cb",
   "metadata": {
    "execution": {
     "iopub.execute_input": "2025-05-29T07:28:05.207091Z",
     "iopub.status.busy": "2025-05-29T07:28:05.206455Z",
     "iopub.status.idle": "2025-05-29T07:28:05.531297Z",
     "shell.execute_reply": "2025-05-29T07:28:05.530669Z",
     "shell.execute_reply.started": "2025-05-29T07:28:05.207055Z"
    }
   },
   "outputs": [
    {
     "data": {
      "text/plain": [
       "([(1122759492010968*i + 420563986021176, 1)],\n",
       " <Level16:r=1122759492010968*i + 420563986021176>)"
      ]
     },
     "execution_count": 8,
     "metadata": {},
     "output_type": "execute_result"
    }
   ],
   "source": [
    "gcd(fs[-1], gs[-1]).roots(), xpath[n//2]"
   ]
  },
  {
   "cell_type": "code",
   "execution_count": 9,
   "id": "9d52d738-31cb-4b1f-a332-675efd1b4523",
   "metadata": {
    "execution": {
     "iopub.execute_input": "2025-05-29T07:28:05.532420Z",
     "iopub.status.busy": "2025-05-29T07:28:05.532059Z",
     "iopub.status.idle": "2025-05-29T07:28:05.550982Z",
     "shell.execute_reply": "2025-05-29T07:28:05.549983Z",
     "shell.execute_reply.started": "2025-05-29T07:28:05.532398Z"
    }
   },
   "outputs": [
    {
     "name": "stdout",
     "output_type": "stream",
     "text": [
      "real answer\n"
     ]
    },
    {
     "data": {
      "text/plain": [
       "<Level16:r=1122759492010968*i + 420563986021176>"
      ]
     },
     "execution_count": 9,
     "metadata": {},
     "output_type": "execute_result"
    }
   ],
   "source": [
    "print(\"real answer\")\n",
    "xpath[n//2]"
   ]
  },
  {
   "cell_type": "code",
   "execution_count": null,
   "id": "0df715bb-c49d-45ff-91a9-47224eacc086",
   "metadata": {},
   "outputs": [],
   "source": []
  }
 ],
 "metadata": {
  "kernelspec": {
   "display_name": "SageConda",
   "language": "sage",
   "name": "sageconda"
  },
  "language_info": {
   "codemirror_mode": {
    "name": "ipython",
    "version": 3
   },
   "file_extension": ".py",
   "mimetype": "text/x-python",
   "name": "python",
   "nbconvert_exporter": "python",
   "pygments_lexer": "ipython3",
   "version": "3.12.10"
  }
 },
 "nbformat": 4,
 "nbformat_minor": 5
}
