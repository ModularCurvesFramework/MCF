{
 "cells": [
  {
   "cell_type": "markdown",
   "id": "7d2f5523-d524-4b24-ab7d-aaf8c25b0763",
   "metadata": {},
   "source": [
    "# Setup"
   ]
  },
  {
   "cell_type": "code",
   "execution_count": 19,
   "id": "4f4377f3-5113-4b7c-8dd0-65c0765ac1f1",
   "metadata": {
    "execution": {
     "iopub.execute_input": "2025-05-27T19:14:39.907970Z",
     "iopub.status.busy": "2025-05-27T19:14:39.907516Z",
     "iopub.status.idle": "2025-05-27T19:14:39.920634Z",
     "shell.execute_reply": "2025-05-27T19:14:39.919968Z",
     "shell.execute_reply.started": "2025-05-27T19:14:39.907921Z"
    }
   },
   "outputs": [],
   "source": [
    "from setting import *\n",
    "from parameters import *\n",
    "\n",
    "S = Setting(pbits=50)"
   ]
  },
  {
   "cell_type": "code",
   "execution_count": 20,
   "id": "24e8649b-061e-4a8d-b73e-f80c0ecc8b4b",
   "metadata": {
    "execution": {
     "iopub.execute_input": "2025-05-27T19:14:40.196870Z",
     "iopub.status.busy": "2025-05-27T19:14:40.196571Z",
     "iopub.status.idle": "2025-05-27T19:14:40.203073Z",
     "shell.execute_reply": "2025-05-27T19:14:40.202388Z",
     "shell.execute_reply.started": "2025-05-27T19:14:40.196846Z"
    }
   },
   "outputs": [],
   "source": [
    "def shift_fast(f, shift):\n",
    "    # compute f(x + shift)\n",
    "    F = f.base_ring()\n",
    "    R = f.parent()\n",
    "    x = f.parent().gen()\n",
    "    n = f.degree() + 1\n",
    "    \n",
    "    # precompute factorials\n",
    "    if not hasattr(R, \"_F_cache\"):\n",
    "        R._F_cache = [F(1)]\n",
    "        R._iF_cache = [F(1)]\n",
    "    facts = R._F_cache\n",
    "    ifacts = R._iF_cache\n",
    "    for i in range(len(facts),n+1):\n",
    "        facts.append(facts[i-1] * i)\n",
    "        ifacts.append(~facts[i])  # can be batched to 1 inversion\n",
    "\n",
    "    # https://arxiv.org/pdf/0804.2337 p.3\n",
    "    # (refers to A. V. Aho, K. Steiglitz, and J. D. Ullman. Evaluating\n",
    "    # polynomials at fixed sets of points. SIAM J. Comp., 4(4):533–539, 1975.\n",
    "    g = f\n",
    "    \n",
    "    g = R([gi * facts[i] for i, gi in enumerate(g)])\n",
    "    g = R(list(g)[::-1])\n",
    "\n",
    "    P = R([shift**i * ifacts[i] for i in range(n)])\n",
    "    # this should be done in FFT or similar\n",
    "    g = g*P % x**n\n",
    "    \n",
    "    g = R(list(g)[::-1])\n",
    "    g = R([gi * ifacts[i] for i, gi in enumerate(g)])\n",
    "    \n",
    "    #assert f(x + shift) == g\n",
    "    return g"
   ]
  },
  {
   "cell_type": "code",
   "execution_count": 21,
   "id": "cbd4307a-94fd-4a34-b24b-5fad8068c506",
   "metadata": {
    "execution": {
     "iopub.execute_input": "2025-05-27T19:14:40.931922Z",
     "iopub.status.busy": "2025-05-27T19:14:40.931521Z",
     "iopub.status.idle": "2025-05-27T19:14:40.939110Z",
     "shell.execute_reply": "2025-05-27T19:14:40.938410Z",
     "shell.execute_reply.started": "2025-05-27T19:14:40.931890Z"
    }
   },
   "outputs": [],
   "source": [
    "def to_Chebyshev_slow(f):\n",
    "    R = f.parent()\n",
    "    x = R.gen()\n",
    "    n = f.degree()\n",
    "\n",
    "    global RRR\n",
    "    RRR = R\n",
    "    if not hasattr(R, \"_T_cache\"):\n",
    "        print(\"recomp\", R)\n",
    "        R._T_cache = [f.parent()(1), x]\n",
    "        R._pow_i2_cache = [f.base_ring()(1), f.base_ring()(1)]\n",
    "\n",
    "    # precompute Chebyshev polynomials\n",
    "    T = R._T_cache\n",
    "    for _ in range(len(T), n+1):\n",
    "        T.append(2*x*T[-1] - T[-2])\n",
    "        R._pow_i2_cache.append(R._pow_i2_cache[-1] / 2)\n",
    "\n",
    "    # convert to the basis\n",
    "    res = [None] * (n + 1)\n",
    "    t = f\n",
    "    for i in reversed(range(n + 1)):\n",
    "        assert R._pow_i2_cache[i] == 1/T[i].lc(), (i, T[i].lc(), R._pow_i2_cache[i])\n",
    "        res[i] = t[i] * R._pow_i2_cache[i]\n",
    "        t -= res[i] * T[i]\n",
    "    #assert f == sum(res[i] * T[i] for i in range(n + 1))\n",
    "    return f.parent()(res)"
   ]
  },
  {
   "cell_type": "code",
   "execution_count": 22,
   "id": "971c52a7-10be-4c3a-8246-e32b1b3083d5",
   "metadata": {
    "execution": {
     "iopub.execute_input": "2025-05-27T19:14:41.616520Z",
     "iopub.status.busy": "2025-05-27T19:14:41.616206Z",
     "iopub.status.idle": "2025-05-27T19:14:41.625364Z",
     "shell.execute_reply": "2025-05-27T19:14:41.624415Z",
     "shell.execute_reply.started": "2025-05-27T19:14:41.616493Z"
    }
   },
   "outputs": [],
   "source": [
    "def forward_polys(S, x0, nsteps):\n",
    "    x = S.Fp2['x'].gen()\n",
    "    R = x.parent()\n",
    "    fs = [x - x0.value]\n",
    "    for i in range(1, nsteps+1):\n",
    "        f = fs[-1]\n",
    "        d = f.degree()\n",
    "        assert f.degree() == 2**(i-1), (f.degree(), i)\n",
    "        \n",
    "        gx2 = f(x)*f(-x)  # M(d) mult., \n",
    "        g = R(list(gx2)[::2])  # squeeze coefficients\n",
    "        # g(x**2) = f(x)f(-x)\n",
    "\n",
    "        # can use Graeffe trick for slight optimization\n",
    "        #fe = R(list(f)[::2])\n",
    "        #fo = R(list(f)[1::2])\n",
    "        #assert f(x) == fe(x**2) + x*fo(x**2)\n",
    "        #assert g == fe**2 - x*fo**2\n",
    "    \n",
    "        gt = to_Chebyshev_slow(g)/2  # M(d) conv.\n",
    "        #assert g((x+1/x)/2) == gt(x) + gt(1/x)\n",
    "\n",
    "        #h = R(list(gt)[::-1] + list(gt)[1::1]) + gt[0]*x**d\n",
    "        h = list(gt)\n",
    "        h = h[::-1] + h[1::]\n",
    "        h[d] += gt[0]\n",
    "        h = R(h)\n",
    "        \n",
    "        #assert h == R( gt(x)*x**d + x**d*gt(1/x) )\n",
    "        assert h.degree() == 2*d\n",
    "        fs.append(h)\n",
    "    return fs\n",
    "\n",
    "def subst_dual_fast(f):\n",
    "    #f0 = f\n",
    "    f = shift_fast(f, +1) # f(x+1)\n",
    "    f = R([2**i * c for i, c in enumerate(f)]) # f(2x)\n",
    "    f = R(list(f)[::-1]) # x^d f(1/x)\n",
    "    f = shift_fast(f, -1)  # h(f-1)\n",
    "    return f\n",
    "\n",
    "def backward_polys(S, x0, nsteps):\n",
    "    fs = forward_polys(S, x0.dual(), nsteps)\n",
    "    gs = []\n",
    "    for i, f in enumerate(fs):\n",
    "        x = f.parent().gen()\n",
    "        g = subst_dual_fast(f)\n",
    "        #assert g == f.subs((x+1)/(x-1)).numerator()\n",
    "        gs.append(g)\n",
    "    return gs"
   ]
  },
  {
   "cell_type": "code",
   "execution_count": 23,
   "id": "d7cf8f56-4b96-4797-af92-59b6880a2f94",
   "metadata": {
    "execution": {
     "iopub.execute_input": "2025-05-27T19:14:42.611198Z",
     "iopub.status.busy": "2025-05-27T19:14:42.610648Z",
     "iopub.status.idle": "2025-05-27T19:14:42.618125Z",
     "shell.execute_reply": "2025-05-27T19:14:42.617380Z",
     "shell.execute_reply.started": "2025-05-27T19:14:42.611149Z"
    }
   },
   "outputs": [
    {
     "data": {
      "text/plain": [
       "51"
      ]
     },
     "execution_count": 23,
     "metadata": {},
     "output_type": "execute_result"
    }
   ],
   "source": [
    "S.p.nbits()"
   ]
  },
  {
   "cell_type": "code",
   "execution_count": 24,
   "id": "1f3bc794-19b8-47f7-b92d-04b251045d51",
   "metadata": {
    "execution": {
     "iopub.execute_input": "2025-05-27T19:14:45.567407Z",
     "iopub.status.busy": "2025-05-27T19:14:45.565059Z",
     "iopub.status.idle": "2025-05-27T19:14:45.716892Z",
     "shell.execute_reply": "2025-05-27T19:14:45.716249Z",
     "shell.execute_reply.started": "2025-05-27T19:14:45.567287Z"
    }
   },
   "outputs": [],
   "source": [
    "n = 12\n",
    "xpath = S.r0.sample_fw(n+1, skip=100)\n",
    "x0 = xpath[0]\n",
    "xn = xpath[n]"
   ]
  },
  {
   "cell_type": "code",
   "execution_count": null,
   "id": "166ea3f2-518d-491f-9c8f-62cc477ea922",
   "metadata": {
    "execution": {
     "iopub.execute_input": "2025-05-27T19:14:46.415214Z",
     "iopub.status.busy": "2025-05-27T19:14:46.413859Z"
    }
   },
   "outputs": [],
   "source": [
    "assert n % 2 == 0\n",
    "\n",
    "fs = forward_polys(S, x0, n//2)\n",
    "for i, f in enumerate(fs):\n",
    "    assert f(xpath[i].value) == 0\n",
    "\n",
    "gs = backward_polys(S, xn, n//2)\n",
    "for i, g in enumerate(gs):\n",
    "    assert g(xpath[-1-i].value) == 0, i\n",
    "\n",
    "print(\"go gcd\")\n",
    "gcd(fs[-1], gs[-1]).roots(), xpath[n//2]"
   ]
  },
  {
   "cell_type": "code",
   "execution_count": null,
   "id": "9d52d738-31cb-4b1f-a332-675efd1b4523",
   "metadata": {},
   "outputs": [],
   "source": []
  }
 ],
 "metadata": {
  "kernelspec": {
   "display_name": "SageConda",
   "language": "sage",
   "name": "sageconda"
  },
  "language_info": {
   "codemirror_mode": {
    "name": "ipython",
    "version": 3
   },
   "file_extension": ".py",
   "mimetype": "text/x-python",
   "name": "python",
   "nbconvert_exporter": "python",
   "pygments_lexer": "ipython3",
   "version": "3.12.10"
  }
 },
 "nbformat": 4,
 "nbformat_minor": 5
}
